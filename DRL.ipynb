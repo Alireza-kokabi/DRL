{
  "nbformat": 4,
  "nbformat_minor": 0,
  "metadata": {
    "colab": {
      "provenance": []
    },
    "kernelspec": {
      "name": "python3",
      "display_name": "Python 3"
    },
    "language_info": {
      "name": "python"
    }
  },
  "cells": [
    {
      "cell_type": "code",
      "execution_count": null,
      "metadata": {
        "id": "YSca2W3HwWWs"
      },
      "outputs": [],
      "source": [
        "from gym import Env\n",
        "from gym.spaces import Discrete, Box\n",
        "import gym\n",
        "import random\n",
        "import numpy as np\n",
        "from stable_baselines3 import SAC\n",
        "from stable_baselines3.common.env_checker import check_env\n",
        "from stable_baselines3.common.callbacks import EvalCallback, BaseCallback\n",
        "import py_dss_interface\n",
        "import os\n",
        "import pathlib"
      ]
    },
    {
      "cell_type": "code",
      "source": [
        "script_path = os.path.dirname(os.path.abspath(\"__file__\"))\n",
        "dss_file = pathlib.Path(script_path).joinpath(\"Article SAC.dss\")\n",
        "dss = py_dss_interface.DSSDLL()"
      ],
      "metadata": {
        "id": "JpRN6-F-y5Sg"
      },
      "execution_count": null,
      "outputs": []
    },
    {
      "cell_type": "code",
      "source": [
        "class OpenD(Env):\n",
        "\n",
        "    def __init__(self):\n",
        "        self.irad=0\n",
        "        self.load=0\n",
        "        self.temp=0\n",
        "        self.action_space = Box(low=-1, high=1,shape=(5,1))\n",
        "        self.observation_space = Box(low=-1 , high=3, shape=(123,), dtype=np.float64)\n",
        "\n",
        "    def step(self, action):\n",
        "        self.pv_list2=['PV1','PV2','PV3','PV4','PV5']\n",
        "        for i in range(len(self.pv_list2)):\n",
        "            dss.pvsystems_write_name(self.pv_list2[i])\n",
        "            var=action[i][0]*1500\n",
        "            dss.pvsystems_write_kvar(var)\n",
        "        dss.text(\"Solve\")\n",
        "        self.calculator()\n",
        "        r1=r2=r3=0\n",
        "\n",
        "        for volt in self.state[0:117]:\n",
        "            r1+= abs(volt-1.0)\n",
        "\n",
        "        for powers in range(5):\n",
        "             if self.po[powers] > self.state[powers+117]:\n",
        "                r2+= (self.state[powers+117] - self.po[powers])\n",
        "\n",
        "        if self.lo < self.state[122]:\n",
        "            r3+=self.lo- self.state[122]\n",
        "\n",
        "        r11=r1*5\n",
        "        r22=r2*2\n",
        "        r33=r3*1\n",
        "\n",
        "        reward=r11+r22+r33\n",
        "\n",
        "\n",
        "        self.powerFlow_length+= -1\n",
        "\n",
        "        if self.powerFlow_length <= 0:\n",
        "            done = True\n",
        "\n",
        "        else:\n",
        "            done = False\n",
        "\n",
        "        info = {}\n",
        "\n",
        "        return self.states, reward, done, info\n",
        "\n",
        "    def reset(self, rando=True):\n",
        "        self.powerFlow_length = 100\n",
        "        self.reward_list=[]\n",
        "        self.po=[]\n",
        "\n",
        "        dss.text(f\"compile [{dss_file}]\")\n",
        "\n",
        "        if rando==True:\n",
        "            self.irad= round(random.uniform(0,1),4)\n",
        "            self.load= round(random.uniform(0.5,1),4)\n",
        "            self.temp=25\n",
        "\n",
        "        dss.loadshapes_first()\n",
        "        dss.loadshapes_next()\n",
        "        dss.loadshapes_write_p_mult(f\"[{self.load}]\")\n",
        "        dss.loadshapes_next()\n",
        "        dss.loadshapes_write_p_mult(f\"[{self.irad}]\")\n",
        "        dss.text(f\"edit Tshape.MyTemp temp={self.temp}\")\n",
        "        dss.text(\"Solve\")\n",
        "        self.calculator()\n",
        "\n",
        "\n",
        "        for i in range(5):\n",
        "            self.po.append(self.pv_powers()[0][i]/1000)\n",
        "\n",
        "        self.lo=self.loss()[0]+self.loss()[1]\n",
        "\n",
        "        return self.states\n",
        "\n",
        "    def loss(self):\n",
        "        loss= dss.circuit_losses()\n",
        "        for i in range(len(loss)):\n",
        "            loss[i] = round(loss[i]/1e6,5)\n",
        "        return loss\n",
        "\n",
        "\n",
        "    def calculator(self):\n",
        "        self.state=[]\n",
        "        self.state=dss.circuit_all_bus_vmag_pu()\n",
        "\n",
        "        for i in range(3,6):\n",
        "            self.state[i]=1.0000001\n",
        "\n",
        "        for i in range(len(self.state)):\n",
        "            self.state[i] = round(self.state[i],5)\n",
        "\n",
        "        for i in range(5):\n",
        "            self.state.append(self.pv_powers()[0][i]/1000)\n",
        "\n",
        "        self.state.append((self.loss()[0]+self.loss()[1]))\n",
        "\n",
        "\n",
        "        self.states = np.array(self.state, dtype='float64')\n",
        "        return self.states, self.state\n",
        "\n",
        "\n",
        "\n",
        "    def pv_powers(self):\n",
        "        self.pv_list=['PVSystem.PV1','PVSystem.PV2','PVSystem.PV3','PVSystem.PV4','PVSystem.PV5']\n",
        "        self.power_list=[]\n",
        "        self.repower_list=[]\n",
        "        for i in range(len(self.pv_list)):\n",
        "            dss.circuit_set_active_element(self.pv_list[i]) #[P1i,Q1i,P2i,Q2i,P3i,Q3i])\n",
        "            self.repower=-( dss.cktelement_powers()[1]+dss.cktelement_powers()[3]+dss.cktelement_powers()[5] )\n",
        "            self.power=-( dss.cktelement_powers()[0]+dss.cktelement_powers()[2]+dss.cktelement_powers()[4] )\n",
        "\n",
        "            if self.power<0.01 and self.power> -0.01:\n",
        "                self.power=0\n",
        "            self.power_list.append(self.power)\n",
        "\n",
        "            if self.repower<0.01 and self.repower> -0.01:\n",
        "                self.repower=0\n",
        "            self.repower_list.append(self.repower)\n",
        "\n",
        "        for i in range(len(self.repower_list)):\n",
        "            self.repower_list[i] = round(self.repower_list[i],0)\n",
        "\n",
        "        for i in range(len(self.power_list)):\n",
        "            self.power_list[i] = round(self.power_list[i],0)\n",
        "\n",
        "        return self.power_list,self.repower_list\n",
        ""
      ],
      "metadata": {
        "id": "q-8xpqTwy9RW"
      },
      "execution_count": null,
      "outputs": []
    },
    {
      "cell_type": "code",
      "source": [
        "env = OpenD()\n",
        "check_env(env)"
      ],
      "metadata": {
        "id": "zhhnx6-ny_jf"
      },
      "execution_count": null,
      "outputs": []
    },
    {
      "cell_type": "code",
      "source": [
        "logdir = \"log\"\n",
        "\n",
        "if not os.path.exists(logdir):\n",
        "    os.makedirs(logdir)"
      ],
      "metadata": {
        "id": "YW5VCIyEzIWm"
      },
      "execution_count": null,
      "outputs": []
    },
    {
      "cell_type": "code",
      "source": [
        "class TrainAndLoggingCallback(BaseCallback):\n",
        "\n",
        "    def __init__(self, check_freq, save_path, verbose=1):\n",
        "        super(TrainAndLoggingCallback, self).__init__(verbose)\n",
        "        self.check_freq = check_freq\n",
        "        self.save_path = save_path\n",
        "\n",
        "    def _init_callback(self):\n",
        "        if self.save_path is not None:\n",
        "            os.makedirs(self.save_path, exist_ok=True)\n",
        "\n",
        "    def _on_step(self):\n",
        "        if self.n_calls % self.check_freq == 0:\n",
        "            model_path = os.path.join(self.save_path, 'best_model_{}'.format(self.n_calls))\n",
        "            self.model.save(model_path)\n",
        "\n",
        "        return True"
      ],
      "metadata": {
        "id": "gdS5255izKVe"
      },
      "execution_count": null,
      "outputs": []
    },
    {
      "cell_type": "code",
      "source": [
        "model = SAC('MlpPolicy', env, verbose = 1 ,  tensorboard_log=logdir ,device=\"cpu\")"
      ],
      "metadata": {
        "id": "BXy8LnQIzNR3"
      },
      "execution_count": null,
      "outputs": []
    },
    {
      "cell_type": "code",
      "source": [
        "name = \"sac\"\n",
        "CHECKPOINT_DIR = f'./train2/{name}/'\n",
        "callback = TrainAndLoggingCallback(check_freq=20000, save_path=CHECKPOINT_DIR)"
      ],
      "metadata": {
        "id": "8fCFShTKzKbf"
      },
      "execution_count": null,
      "outputs": []
    },
    {
      "cell_type": "code",
      "source": [
        "model.learn(total_timesteps=1000000 ,tb_log_name=name , reset_num_timesteps =False  , callback=callback)"
      ],
      "metadata": {
        "id": "X3Jh9oYm0Ls-"
      },
      "execution_count": null,
      "outputs": []
    }
  ]
}